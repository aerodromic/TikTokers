{
 "cells": [
  {
   "cell_type": "code",
   "execution_count": 7,
   "id": "a67c6f43",
   "metadata": {},
   "outputs": [],
   "source": [
    "import pandas as pd\n",
    "import numpy as np\n",
    "import random\n",
    "import warnings\n",
    "warnings.filterwarnings(\"ignore\")\n",
    "pd.set_option('expand_frame_repr', False)"
   ]
  },
  {
   "cell_type": "code",
   "execution_count": 8,
   "id": "d2bc517d",
   "metadata": {},
   "outputs": [],
   "source": [
    "path = \"C:/Users/chial/Downloads/data.xlsx\" \n",
    "ads_table = pd.read_excel(path, sheet_name = 0, header = 1)\n",
    "mod_table = pd.read_excel(path, sheet_name = 1)"
   ]
  },
  {
   "cell_type": "code",
   "execution_count": 9,
   "id": "2a17be96",
   "metadata": {},
   "outputs": [],
   "source": [
    "mod_table = mod_table[~(mod_table['Productivity'].isna() & mod_table['Utilisation %'].isna() & (mod_table['handling time'] == 0))]\n",
    "mod_table['accuracy'] = pd.to_numeric(mod_table['accuracy'], errors='coerce')\n",
    "mod_table = mod_table.dropna(subset=['accuracy'])\n",
    "mod_table = mod_table.reset_index(drop=True)"
   ]
  },
  {
   "cell_type": "markdown",
   "id": "6b268a4d",
   "metadata": {},
   "source": [
    "## Functions"
   ]
  },
  {
   "cell_type": "code",
   "execution_count": 16,
   "id": "7b32b0a7",
   "metadata": {},
   "outputs": [],
   "source": [
    "# Generate score as in Problem A\n",
    "# TO BE CHANGED\n",
    "def fake_score():\n",
    "    return random.random()\n",
    "\n",
    "# Get list of Moderators operating in the targeted market \n",
    "def check_moderator_market(target_market):\n",
    "    return mod_table[mod_table['market'].apply(lambda x: target_market in x)]\n",
    "\n",
    "# Allocate risk score to the job\n",
    "def tag_job_with_risk (job):\n",
    "    if job['score']>0.75:\n",
    "        return 2\n",
    "    elif job['score']>0.25:\n",
    "        return 1\n",
    "    else: return 0\n",
    "\n",
    "# Allocate moderator accuracy \n",
    "def tag_moderator_with_score(moderator_pool):\n",
    "    high_score_cutoff = moderator_pool['accuracy'].quantile(0.75)\n",
    "    mid_score_cutoff = moderator_pool['accuracy'].quantile(0.25)\n",
    "\n",
    "    moderator_pool['Score Segment'] = np.where(moderator_pool['accuracy'] >= high_score_cutoff, 2,\n",
    "                             np.where(moderator_pool['accuracy'] >= mid_score_cutoff, 1, 0))\n",
    "\n",
    "# Shortlist moderators who are accurate enough for the review\n",
    "def match_moderator_score_to_job(moderator_pool, job):\n",
    "    moderator_pool.drop(moderator_pool[moderator_pool['Score Segment'] != job['Risk Segment']].index, inplace=True)\n",
    "\n",
    "# Function to return number of jobs given ID of moderator\n",
    "# TO BE CHANGED\n",
    "def number_of_jobs(id):\n",
    "    return 1\n",
    "\n",
    "# Function to get number of jobs each moderator in the moderator pool has \n",
    "def number_of_jobs_for_each_moderator(moderator_pool):\n",
    "    moderator_pool['Number of Jobs'] = 0\n",
    "    moderator_pool['Number of Jobs'] = moderator_pool['Number of Jobs'].apply(lambda x: number_of_jobs(moderator_pool['moderator']))\n",
    "\n",
    "def least_job_policy(moderator_pool):\n",
    "    least_jobs_value = moderator_pool['Number of Jobs'].min()\n",
    "    moderator = moderator_pool.loc[moderator_pool['Number of Jobs'] == least_jobs_value, 'moderator'].values[0]\n",
    "    return moderator\n",
    "\n",
    "def least_job_hour_policy(moderator_pool):\n",
    "    moderator_pool['Number of Job Hours'] = 0\n",
    "    moderator_pool['Number of Job Hours'] = moderator_pool['Number of Jobs']*moderator_pool['handling time']\n",
    "    least_job_hour_value = moderator_pool['Number of Job Hours'].min()\n",
    "    moderator = moderator_pool.loc[moderator_pool['Number of Job Hours'] == least_job_hour_value, 'moderator'].values[0]\n",
    "    print(moderator_pool)\n",
    "    return moderator\n",
    "\n",
    "def assign_job_to_moderator(moderator_pool, job):\n",
    "    job['Risk Segment'] = tag_job_with_risk(job)\n",
    "    moderator_pool = check_moderator_market(job['delivery_country'])\n",
    "    tag_moderator_with_score(moderator_pool)\n",
    "    match_moderator_score_to_job(moderator_pool, job)\n",
    "    number_of_jobs_for_each_moderator(moderator_pool)\n",
    "    # return least_job_policy(moderator_pool)\n",
    "    return least_job_hour_policy(moderator_pool)"
   ]
  },
  {
   "cell_type": "code",
   "execution_count": 17,
   "id": "d555424b",
   "metadata": {},
   "outputs": [],
   "source": [
    "# Get a job as a dataframe of 1 row \n",
    "ads_table['score'] = 0\n",
    "ads_table['score'] = ads_table['score'].apply(lambda x: fake_score())\n",
    "job = ads_table.iloc[0]"
   ]
  },
  {
   "cell_type": "code",
   "execution_count": 18,
   "id": "053b2a6a",
   "metadata": {},
   "outputs": [
    {
     "name": "stdout",
     "output_type": "stream",
     "text": [
      "             moderator        market  Productivity  Utilisation %  handling time  accuracy  Total time reviewing  Total work time  New productivity  New Total Time Reviewing  Total work time.1  New Utilisation  Score Segment  Number of Jobs  Number of Job Hours\n",
      "50    1672502123346950  [\"US\", \"CA\"]    133.226667       0.537611          79835     0.789          1.063615e+07     1.978410e+07               NaN                         0       1.978410e+07              0.0              1               1                79835\n",
      "53    1752289495219201  [\"US\", \"CA\"]    383.448000       0.805644          97686     0.911          3.745750e+07     4.649384e+07               NaN                         0       4.649384e+07              0.0              1               1                97686\n",
      "64    1759961674413106        [\"US\"]    261.977500       0.808214          89468     0.792          2.343860e+07     2.900051e+07               NaN                         0       2.900051e+07              0.0              1               1                89468\n",
      "74    1729842322829314  [\"US\", \"CA\"]    172.503333       0.744542          61756     0.832          1.065312e+07     1.430829e+07               NaN                         0       1.430829e+07              0.0              1               1                61756\n",
      "84    1672130496087046  [\"US\", \"CA\"]    320.902500       0.646458          79979     0.847          2.566546e+07     3.970165e+07               NaN                         0       3.970165e+07              0.0              1               1                79979\n",
      "...                ...           ...           ...            ...            ...       ...                   ...              ...               ...                       ...                ...              ...            ...             ...                  ...\n",
      "1200  1760219117725729  [\"US\", \"CA\"]    324.167500       0.794151          85387     0.770          2.767969e+07     3.485444e+07               NaN                         0       3.485444e+07              0.0              1               1                85387\n",
      "1231           8521016  [\"US\", \"CA\"]    640.850000       0.931632          80568     0.868          5.163200e+07     5.542103e+07               NaN                         0       5.542103e+07              0.0              1               1                80568\n",
      "1244  1726039575798785  [\"US\", \"CA\"]    226.166667       0.728194          60005     0.813          1.357113e+07     1.863669e+07               NaN                         0       1.863669e+07              0.0              1               1                60005\n",
      "1246           1598527  [\"US\", \"CA\"]      1.230000       0.000000             73     0.676          8.979000e+01              NaN               NaN                         0                NaN              NaN              1               1                   73\n",
      "1271  1734911746733057  [\"US\", \"CA\"]    180.750000       0.685469          79210     0.860          1.431721e+07     2.088674e+07               NaN                         0       2.088674e+07              0.0              1               1                79210\n",
      "\n",
      "[71 rows x 15 columns]\n"
     ]
    },
    {
     "data": {
      "text/plain": [
       "1598527"
      ]
     },
     "execution_count": 18,
     "metadata": {},
     "output_type": "execute_result"
    }
   ],
   "source": [
    "moderator_pool = mod_table\n",
    "assign_job_to_moderator(moderator_pool, job)"
   ]
  },
  {
   "cell_type": "code",
   "execution_count": null,
   "id": "3828c046",
   "metadata": {},
   "outputs": [],
   "source": []
  }
 ],
 "metadata": {
  "kernelspec": {
   "display_name": "Python 3 (ipykernel)",
   "language": "python",
   "name": "python3"
  },
  "language_info": {
   "codemirror_mode": {
    "name": "ipython",
    "version": 3
   },
   "file_extension": ".py",
   "mimetype": "text/x-python",
   "name": "python",
   "nbconvert_exporter": "python",
   "pygments_lexer": "ipython3",
   "version": "3.9.5"
  }
 },
 "nbformat": 4,
 "nbformat_minor": 5
}
