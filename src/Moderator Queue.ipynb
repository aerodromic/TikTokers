{
 "cells": [
  {
   "cell_type": "code",
   "execution_count": 1,
   "id": "a67c6f43",
   "metadata": {},
   "outputs": [
    {
     "name": "stderr",
     "output_type": "stream",
     "text": [
      "<frozen importlib._bootstrap>:228: RuntimeWarning: scipy._lib.messagestream.MessageStream size changed, may indicate binary incompatibility. Expected 56 from C header, got 64 from PyObject\n"
     ]
    }
   ],
   "source": [
    "import pandas as pd\n",
    "import numpy as np\n",
    "import random\n",
    "import warnings\n",
    "warnings.filterwarnings(\"ignore\")\n",
    "pd.set_option('expand_frame_repr', False)"
   ]
  },
  {
   "cell_type": "code",
   "execution_count": 2,
   "id": "d2bc517d",
   "metadata": {},
   "outputs": [],
   "source": [
    "path = \"C:/Users/chial/Downloads/data.xlsx\" \n",
    "ads_table = pd.read_excel(path, sheet_name = 0, header = 1)\n",
    "mod_table = pd.read_excel(path, sheet_name = 1)"
   ]
  },
  {
   "cell_type": "code",
   "execution_count": 3,
   "id": "2a17be96",
   "metadata": {},
   "outputs": [],
   "source": [
    "mod_table = mod_table[~(mod_table['Productivity'].isna() & mod_table['Utilisation %'].isna() & (mod_table['handling time'] == 0))]\n",
    "mod_table['accuracy'] = pd.to_numeric(mod_table['accuracy'], errors='coerce')\n",
    "mod_table = mod_table.dropna(subset=['accuracy'])\n",
    "mod_table = mod_table.reset_index(drop=True)"
   ]
  },
  {
   "cell_type": "markdown",
   "id": "6b268a4d",
   "metadata": {},
   "source": [
    "## Functions"
   ]
  },
  {
   "cell_type": "code",
   "execution_count": 10,
   "id": "7b32b0a7",
   "metadata": {},
   "outputs": [],
   "source": [
    "# Generate score as in Problem A\n",
    "# TO BE CHANGED\n",
    "def fake_score():\n",
    "    return random.random()\n",
    "\n",
    "# Get list of Moderators operating in the targeted market \n",
    "def check_moderator_market(target_market):\n",
    "    return mod_table[mod_table['market'].apply(lambda x: target_market in x)]\n",
    "\n",
    "# Allocate risk score to the job\n",
    "def tag_job_with_risk (job):\n",
    "    if job['score']>0.75:\n",
    "        return 2\n",
    "    elif job['score']>0.25:\n",
    "        return 1\n",
    "    else: return 0\n",
    "\n",
    "# Allocate moderator accuracy \n",
    "def tag_moderator_with_score(moderator_pool):\n",
    "    high_score_cutoff = moderator_pool['Moderator Score'].quantile(0.75)\n",
    "    mid_score_cutoff = moderator_pool['Moderator Score'].quantile(0.25)\n",
    "\n",
    "    moderator_pool['Score Segment'] = np.where(moderator_pool['Moderator Score'] >= high_score_cutoff, 2,\n",
    "                             np.where(moderator_pool['Moderator Score'] >= mid_score_cutoff, 1, 0))\n",
    "\n",
    "# Shortlist moderators who are accurate enough for the review\n",
    "def match_moderator_score_to_job(moderator_pool, job):\n",
    "    moderator_pool.drop(moderator_pool[moderator_pool['Score Segment'] != job['Risk Segment']].index, inplace=True)\n",
    "\n",
    "# Function to return number of jobs given ID of moderator\n",
    "# TO BE CHANGED\n",
    "def number_of_jobs(id):\n",
    "    return 1\n",
    "\n",
    "# Function to get number of jobs each moderator in the moderator pool has \n",
    "def number_of_jobs_for_each_moderator(moderator_pool):\n",
    "    moderator_pool['Number of Jobs'] = 0\n",
    "    moderator_pool['Number of Jobs'] = moderator_pool['Number of Jobs'].apply(lambda x: number_of_jobs(moderator_pool['moderator']))\n",
    "\n",
    "def least_job_policy(moderator_pool):\n",
    "    least_jobs_value = moderator_pool['Number of Jobs'].min()\n",
    "    moderator = moderator_pool.loc[moderator_pool['Number of Jobs'] == least_jobs_value, 'moderator'].values[0]\n",
    "    return moderator\n",
    "\n",
    "def least_job_hour_policy(moderator_pool):\n",
    "    moderator_pool['Number of Job Hours'] = 0\n",
    "    moderator_pool['Number of Job Hours'] = moderator_pool['Number of Jobs']*moderator_pool['handling time']\n",
    "    least_job_hour_value = moderator_pool['Number of Job Hours'].min()\n",
    "    moderator = moderator_pool.loc[moderator_pool['Number of Job Hours'] == least_job_hour_value, 'moderator'].values[0]\n",
    "    print(moderator_pool)\n",
    "    return moderator\n",
    "\n",
    "def assign_job_to_moderator(moderator_pool, job):\n",
    "    job['Risk Segment'] = tag_job_with_risk(job)\n",
    "    moderator_pool = check_moderator_market(job['delivery_country'])\n",
    "    tag_moderator_with_score(moderator_pool)\n",
    "    match_moderator_score_to_job(moderator_pool, job)\n",
    "    number_of_jobs_for_each_moderator(moderator_pool)\n",
    "    # return least_job_policy(moderator_pool)\n",
    "    return least_job_hour_policy(moderator_pool)"
   ]
  },
  {
   "cell_type": "code",
   "execution_count": 11,
   "id": "d555424b",
   "metadata": {},
   "outputs": [],
   "source": [
    "# Get a job as a dataframe of 1 row \n",
    "ads_table['score'] = 0\n",
    "ads_table['score'] = ads_table['score'].apply(lambda x: fake_score())\n",
    "job = ads_table.iloc[0]"
   ]
  },
  {
   "cell_type": "code",
   "execution_count": 12,
   "id": "053b2a6a",
   "metadata": {},
   "outputs": [
    {
     "name": "stdout",
     "output_type": "stream",
     "text": [
      "             moderator        market  Productivity  Utilisation %  handling time  accuracy  Moderator Score  Score Segment\n",
      "48             5608898  [\"US\", \"CA\"]    565.187500       0.811286         106304     0.963              1.0              2\n",
      "50    1672502123346950  [\"US\", \"CA\"]    133.226667       0.537611          79835     0.789              1.0              2\n",
      "53    1752289495219201  [\"US\", \"CA\"]    383.448000       0.805644          97686     0.911              1.0              2\n",
      "64    1759961674413106        [\"US\"]    261.977500       0.808214          89468     0.792              1.0              2\n",
      "71             2873783  [\"US\", \"CA\"]    204.236667       0.529403          89440     0.455              1.0              2\n",
      "...                ...           ...           ...            ...            ...       ...              ...            ...\n",
      "1246           1598527  [\"US\", \"CA\"]      1.230000       0.000000             73     0.676              1.0              2\n",
      "1255           9939125  [\"US\", \"CA\"]    317.657143       0.384768          37685     0.380              1.0              2\n",
      "1259           1251392        [\"US\"]    615.867500       0.734984          95137     0.438              1.0              2\n",
      "1268           7889705  [\"US\", \"CA\"]    336.700000       0.890469         112190     0.615              1.0              2\n",
      "1271  1734911746733057  [\"US\", \"CA\"]    180.750000       0.685469          79210     0.860              1.0              2\n",
      "\n",
      "[143 rows x 8 columns]\n",
      "Empty DataFrame\n",
      "Columns: [moderator, market, Productivity, Utilisation %, handling time, accuracy, Moderator Score, Score Segment]\n",
      "Index: []\n"
     ]
    },
    {
     "ename": "IndexError",
     "evalue": "index 0 is out of bounds for axis 0 with size 0",
     "output_type": "error",
     "traceback": [
      "\u001b[1;31m---------------------------------------------------------------------------\u001b[0m",
      "\u001b[1;31mIndexError\u001b[0m                                Traceback (most recent call last)",
      "\u001b[1;32m~\\AppData\\Local\\Temp/ipykernel_2088/3452929315.py\u001b[0m in \u001b[0;36m<module>\u001b[1;34m\u001b[0m\n\u001b[0;32m      1\u001b[0m \u001b[0mmoderator_pool\u001b[0m \u001b[1;33m=\u001b[0m \u001b[0mmod_table\u001b[0m\u001b[1;33m\u001b[0m\u001b[1;33m\u001b[0m\u001b[0m\n\u001b[1;32m----> 2\u001b[1;33m \u001b[0massign_job_to_moderator\u001b[0m\u001b[1;33m(\u001b[0m\u001b[0mmoderator_pool\u001b[0m\u001b[1;33m,\u001b[0m \u001b[0mjob\u001b[0m\u001b[1;33m)\u001b[0m\u001b[1;33m\u001b[0m\u001b[1;33m\u001b[0m\u001b[0m\n\u001b[0m",
      "\u001b[1;32m~\\AppData\\Local\\Temp/ipykernel_2088/2569341887.py\u001b[0m in \u001b[0;36massign_job_to_moderator\u001b[1;34m(moderator_pool, job)\u001b[0m\n\u001b[0;32m     60\u001b[0m     \u001b[0mnumber_of_jobs_for_each_moderator\u001b[0m\u001b[1;33m(\u001b[0m\u001b[0mmoderator_pool\u001b[0m\u001b[1;33m)\u001b[0m\u001b[1;33m\u001b[0m\u001b[1;33m\u001b[0m\u001b[0m\n\u001b[0;32m     61\u001b[0m     \u001b[1;31m# return least_job_policy(moderator_pool)\u001b[0m\u001b[1;33m\u001b[0m\u001b[1;33m\u001b[0m\u001b[1;33m\u001b[0m\u001b[0m\n\u001b[1;32m---> 62\u001b[1;33m     \u001b[1;32mreturn\u001b[0m \u001b[0mleast_job_hour_policy\u001b[0m\u001b[1;33m(\u001b[0m\u001b[0mmoderator_pool\u001b[0m\u001b[1;33m)\u001b[0m\u001b[1;33m\u001b[0m\u001b[1;33m\u001b[0m\u001b[0m\n\u001b[0m",
      "\u001b[1;32m~\\AppData\\Local\\Temp/ipykernel_2088/2569341887.py\u001b[0m in \u001b[0;36mleast_job_hour_policy\u001b[1;34m(moderator_pool)\u001b[0m\n\u001b[0;32m     49\u001b[0m     \u001b[0mmoderator_pool\u001b[0m\u001b[1;33m[\u001b[0m\u001b[1;34m'Number of Job Hours'\u001b[0m\u001b[1;33m]\u001b[0m \u001b[1;33m=\u001b[0m \u001b[0mmoderator_pool\u001b[0m\u001b[1;33m[\u001b[0m\u001b[1;34m'Number of Jobs'\u001b[0m\u001b[1;33m]\u001b[0m\u001b[1;33m*\u001b[0m\u001b[0mmoderator_pool\u001b[0m\u001b[1;33m[\u001b[0m\u001b[1;34m'handling time'\u001b[0m\u001b[1;33m]\u001b[0m\u001b[1;33m\u001b[0m\u001b[1;33m\u001b[0m\u001b[0m\n\u001b[0;32m     50\u001b[0m     \u001b[0mleast_job_hour_value\u001b[0m \u001b[1;33m=\u001b[0m \u001b[0mmoderator_pool\u001b[0m\u001b[1;33m[\u001b[0m\u001b[1;34m'Number of Job Hours'\u001b[0m\u001b[1;33m]\u001b[0m\u001b[1;33m.\u001b[0m\u001b[0mmin\u001b[0m\u001b[1;33m(\u001b[0m\u001b[1;33m)\u001b[0m\u001b[1;33m\u001b[0m\u001b[1;33m\u001b[0m\u001b[0m\n\u001b[1;32m---> 51\u001b[1;33m     \u001b[0mmoderator\u001b[0m \u001b[1;33m=\u001b[0m \u001b[0mmoderator_pool\u001b[0m\u001b[1;33m.\u001b[0m\u001b[0mloc\u001b[0m\u001b[1;33m[\u001b[0m\u001b[0mmoderator_pool\u001b[0m\u001b[1;33m[\u001b[0m\u001b[1;34m'Number of Job Hours'\u001b[0m\u001b[1;33m]\u001b[0m \u001b[1;33m==\u001b[0m \u001b[0mleast_job_hour_value\u001b[0m\u001b[1;33m,\u001b[0m \u001b[1;34m'moderator'\u001b[0m\u001b[1;33m]\u001b[0m\u001b[1;33m.\u001b[0m\u001b[0mvalues\u001b[0m\u001b[1;33m[\u001b[0m\u001b[1;36m0\u001b[0m\u001b[1;33m]\u001b[0m\u001b[1;33m\u001b[0m\u001b[1;33m\u001b[0m\u001b[0m\n\u001b[0m\u001b[0;32m     52\u001b[0m     \u001b[0mprint\u001b[0m\u001b[1;33m(\u001b[0m\u001b[0mmoderator_pool\u001b[0m\u001b[1;33m)\u001b[0m\u001b[1;33m\u001b[0m\u001b[1;33m\u001b[0m\u001b[0m\n\u001b[0;32m     53\u001b[0m     \u001b[1;32mreturn\u001b[0m \u001b[0mmoderator\u001b[0m\u001b[1;33m\u001b[0m\u001b[1;33m\u001b[0m\u001b[0m\n",
      "\u001b[1;31mIndexError\u001b[0m: index 0 is out of bounds for axis 0 with size 0"
     ]
    }
   ],
   "source": [
    "moderator_pool = mod_table\n",
    "assign_job_to_moderator(moderator_pool, job)"
   ]
  }
 ],
 "metadata": {
  "kernelspec": {
   "display_name": "Python 3 (ipykernel)",
   "language": "python",
   "name": "python3"
  },
  "language_info": {
   "codemirror_mode": {
    "name": "ipython",
    "version": 3
   },
   "file_extension": ".py",
   "mimetype": "text/x-python",
   "name": "python",
   "nbconvert_exporter": "python",
   "pygments_lexer": "ipython3",
   "version": "3.9.5"
  }
 },
 "nbformat": 4,
 "nbformat_minor": 5
}
