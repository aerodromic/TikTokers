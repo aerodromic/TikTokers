{
 "cells": [
  {
   "cell_type": "markdown",
   "metadata": {},
   "source": [
    "# Simulation Module"
   ]
  },
  {
   "cell_type": "markdown",
   "metadata": {},
   "source": [
    "## Import Library"
   ]
  },
  {
   "cell_type": "code",
   "execution_count": 1,
   "metadata": {},
   "outputs": [
    {
     "name": "stdout",
     "output_type": "stream",
     "text": [
      "Requirement already satisfied: simpy in /usr/local/python/3.10.8/lib/python3.10/site-packages (4.0.2)\n"
     ]
    }
   ],
   "source": [
    "! pip install simpy"
   ]
  },
  {
   "cell_type": "code",
   "execution_count": 2,
   "metadata": {},
   "outputs": [],
   "source": [
    "import simpy\n",
    "import statistics"
   ]
  },
  {
   "cell_type": "markdown",
   "metadata": {},
   "source": [
    "## Wrapper Clases"
   ]
  },
  {
   "cell_type": "code",
   "execution_count": 3,
   "metadata": {},
   "outputs": [],
   "source": [
    "# Generic helper class to hold information regarding to resources\n",
    "# This simplifies how we pass information from main program to entity process\n",
    "class Moderator(object):\n",
    "    def __init__(self, env, name, market, productivity, utilisation, handling_time, accuracy):\n",
    "        self.env = env\n",
    "        self.name = \"Moderator \" + name # important\n",
    "        self.market = market # important\n",
    "        self.productivity = productivity\n",
    "        self.utilisation = utilisation\n",
    "        self.handling_time = handling_time\n",
    "        self.accuracy = accuracy\n",
    "        self.resource = simpy.Resource(env) # serve 1, unlimited in queue\n",
    "        self.task = 0\n",
    "\n",
    "    def print_stats(self):\n",
    "        print(\"\\t[{}] {} moderating, {} in queue\".format(self.name, self.resource.count, len(self.resource.queue)))\n",
    "\n",
    "    def get_handling_time(self):\n",
    "        return self.handling_time\n",
    "\n",
    "    def get_queue_size(self):\n",
    "        return self.resource.count + len(self.resource.queue)\n",
    "    \n",
    "    def get_utilisation(self):\n",
    "        return self.task/self.productivity\n",
    "\n",
    "# Generic helper class to hold information regarding to processes\n",
    "class Advertisement(object):\n",
    "    def __init__(self, name, market, date, score, profit):\n",
    "        self.name = \"Advertisement \" + name\n",
    "        self.market = market\n",
    "        self.date = date\n",
    "        self.score = score\n",
    "        self.profit = profit"
   ]
  },
  {
   "cell_type": "markdown",
   "metadata": {},
   "source": [
    "## Function"
   ]
  },
  {
   "cell_type": "code",
   "execution_count": 4,
   "metadata": {},
   "outputs": [],
   "source": [
    "# Input: advertisements\n",
    "# Output: 2 arrays of advertisement and moderators\n",
    "# mismatch score, utilisation score, profit\n",
    "def loss(env, advertisements, moderators):\n",
    "    abs_mismatch_list = []\n",
    "    # helper class for moderation\n",
    "\n",
    "    def dispatcher(moderators): # looting\n",
    "        assigned_queue_size = -1\n",
    "        assigned_moderator = None\n",
    "        for moderator in moderators:\n",
    "            queue_size = moderator.resource.count + len(moderator.resource.queue)\n",
    "            if queue_size < assigned_queue_size or assigned_queue_size == -1:\n",
    "                assigned_queue_size = queue_size\n",
    "                assigned_moderator = moderator\n",
    "        return assigned_moderator, assigned_queue_size\n",
    "\n",
    "\n",
    "    # moderation - Entity Process\n",
    "    # Describe how advertisement performs at each moderator\n",
    "    def moderation(env, advertisement, moderators):\n",
    "        # arrival statement\n",
    "        print(\"[{:6.2f}:{}] - arrive at dispatcher\".format(env.now, advertisement.name))\n",
    "\n",
    "        # Debugging statement to print state of moderators\n",
    "        for moderator in moderators:\n",
    "            moderator.print_stats()\n",
    "\n",
    "        # dispatcher logic: looting\n",
    "        # advertisement will choose a moderator based on the dispatcher function\n",
    "        moderator, num_in_moderator = dispatcher(moderators)\n",
    "        abs_mismatch_list.append(abs(moderator.accuracy - advertisement.score))\n",
    "        print(\"[{:6.2f}:{}] - chooses {} with {} ads in queue\".format(env.now, advertisement.name, moderator.name, num_in_moderator))\n",
    "        \n",
    "        # process logic to handle the request for a spot at the assigned moderator\n",
    "        with moderator.resource.request() as request:\n",
    "            yield request\n",
    "            print('[{:6.2f}:{}] - begin moderation'.format(env.now, advertisement.name))\n",
    "            handling_time = moderator.get_handling_time()\n",
    "            yield env.timeout(handling_time)\n",
    "            print('[{:6.2f}:{}] - finish moderation'.format(env.now, advertisement.name))\n",
    "        # print('[{:6.2f}:{}] - depart from queue'.format(env.now, name))\n",
    "        moderator.task += 1\n",
    "\n",
    "    # moderation event generator - Supporting Process\n",
    "    def moderation_event_generator(env, advertisements, moderators):\n",
    "        for index in range(len(advertisements)):\n",
    "            adv = advertisements[index]\n",
    "            mod = moderation(env, adv, moderators)\n",
    "            env.process(mod)\n",
    "            try:\n",
    "                next_adv = advertisements[index + 1]\n",
    "                next_entity_arrival = next_adv.date - adv.date\n",
    "            except:\n",
    "                next_entity_arrival = 0\n",
    "            yield env.timeout(next_entity_arrival)\n",
    "            \n",
    "    env.process(moderation_event_generator(env, advertisements, moderators))\n",
    "    env.run()\n",
    "    mismatch_score = statistics.mean(abs_mismatch_list)\n",
    "    utilisation_score = statistics.mean([x.get_utilisation() for x in moderators])\n",
    "    return mismatch_score, utilisation_score"
   ]
  },
  {
   "cell_type": "markdown",
   "metadata": {},
   "source": [
    "## Test run"
   ]
  },
  {
   "cell_type": "code",
   "execution_count": 5,
   "metadata": {},
   "outputs": [
    {
     "name": "stdout",
     "output_type": "stream",
     "text": [
      "[  0.00:Advertisement 123] - arrive at dispatcher\n",
      "\t[Moderator adam] 0 moderating, 0 in queue\n",
      "\t[Moderator bell] 0 moderating, 0 in queue\n",
      "[  0.00:Advertisement 123] - chooses Moderator adam with 0 ads in queue\n",
      "[  0.00:Advertisement 121] - arrive at dispatcher\n",
      "\t[Moderator adam] 1 moderating, 0 in queue\n",
      "\t[Moderator bell] 0 moderating, 0 in queue\n",
      "[  0.00:Advertisement 121] - chooses Moderator bell with 0 ads in queue\n",
      "[  0.00:Advertisement 123] - begin moderation\n",
      "[  0.00:Advertisement 121] - begin moderation\n",
      "[ 10.00:Advertisement 123] - finish moderation\n",
      "[ 10.00:Advertisement 121] - finish moderation\n"
     ]
    },
    {
     "data": {
      "text/plain": [
       "(0.15000000000000002, 0.33613445378151263)"
      ]
     },
     "execution_count": 5,
     "metadata": {},
     "output_type": "execute_result"
    }
   ],
   "source": [
    "env = simpy.Environment()\n",
    "\n",
    "# Advertisement List (name, market, date, score, profit)\n",
    "advertisement1 = Advertisement(\"123\", [1,2], 0.9, 0.8, 1000)\n",
    "advertisement2 = Advertisement(\"121\", [1,2], 0.9, 0.7, 1000)\n",
    "advertisements = [advertisement1, advertisement2]\n",
    "advertisements = sorted(advertisements, key = lambda x:x.date)\n",
    "\n",
    "# Moderator List (env, name, market, productivity, utilisation, handling_time, accuracy)\n",
    "moderator1 = Moderator(env, 'adam', [1,2], 5.1, 0.8, 10, 0.9)\n",
    "moderator2 = Moderator(env, 'bell', [1,2], 2.1, 0.8, 10, 0.9)\n",
    "moderators = [moderator1, moderator2]\n",
    "\n",
    "loss(env, advertisements, moderators)"
   ]
  }
 ],
 "metadata": {
  "kernelspec": {
   "display_name": "Python 3",
   "language": "python",
   "name": "python3"
  },
  "language_info": {
   "codemirror_mode": {
    "name": "ipython",
    "version": 3
   },
   "file_extension": ".py",
   "mimetype": "text/x-python",
   "name": "python",
   "nbconvert_exporter": "python",
   "pygments_lexer": "ipython3",
   "version": "3.10.8"
  },
  "orig_nbformat": 4
 },
 "nbformat": 4,
 "nbformat_minor": 2
}
