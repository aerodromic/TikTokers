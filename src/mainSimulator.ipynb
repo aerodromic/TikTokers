{
 "cells": [
  {
   "cell_type": "code",
   "execution_count": 6,
   "metadata": {},
   "outputs": [
    {
     "name": "stdout",
     "output_type": "stream",
     "text": [
      "Requirement already satisfied: simpy in /usr/local/python/3.10.8/lib/python3.10/site-packages (4.0.2)\n",
      "Collecting rbfopt\n",
      "  Obtaining dependency information for rbfopt from https://files.pythonhosted.org/packages/84/ec/059bd6e63ae4019d5adf83ceaf70d89a0f37c3efc3cd88e68e7af14c0506/rbfopt-4.2.6-py2.py3-none-any.whl.metadata\n",
      "  Downloading rbfopt-4.2.6-py2.py3-none-any.whl.metadata (15 kB)\n",
      "Requirement already satisfied: numpy in /home/codespace/.local/lib/python3.10/site-packages (from rbfopt) (1.25.2)\n",
      "Requirement already satisfied: scipy in /home/codespace/.local/lib/python3.10/site-packages (from rbfopt) (1.11.2)\n",
      "Collecting pyomo (from rbfopt)\n",
      "  Obtaining dependency information for pyomo from https://files.pythonhosted.org/packages/1d/38/d0bbc9f9865478da9aec17c888369c846ffc93b2ece915708194a241f3a3/Pyomo-6.6.2-cp310-cp310-manylinux_2_17_x86_64.manylinux2014_x86_64.whl.metadata\n",
      "  Downloading Pyomo-6.6.2-cp310-cp310-manylinux_2_17_x86_64.manylinux2014_x86_64.whl.metadata (7.4 kB)\n",
      "Collecting ply (from pyomo->rbfopt)\n",
      "  Downloading ply-3.11-py2.py3-none-any.whl (49 kB)\n",
      "\u001b[2K     \u001b[90m━━━━━━━━━━━━━━━━━━━━━━━━━━━━━━━━━━━━━━━━\u001b[0m \u001b[32m49.6/49.6 kB\u001b[0m \u001b[31m2.4 MB/s\u001b[0m eta \u001b[36m0:00:00\u001b[0m\n",
      "\u001b[?25hDownloading rbfopt-4.2.6-py2.py3-none-any.whl (135 kB)\n",
      "\u001b[2K   \u001b[90m━━━━━━━━━━━━━━━━━━━━━━━━━━━━━━━━━━━━━━━━\u001b[0m \u001b[32m135.6/135.6 kB\u001b[0m \u001b[31m6.1 MB/s\u001b[0m eta \u001b[36m0:00:00\u001b[0m\n",
      "\u001b[?25hDownloading Pyomo-6.6.2-cp310-cp310-manylinux_2_17_x86_64.manylinux2014_x86_64.whl (12.7 MB)\n",
      "\u001b[2K   \u001b[90m━━━━━━━━━━━━━━━━━━━━━━━━━━━━━━━━━━━━━━━━\u001b[0m \u001b[32m12.7/12.7 MB\u001b[0m \u001b[31m41.4 MB/s\u001b[0m eta \u001b[36m0:00:00\u001b[0m00:01\u001b[0m00:01\u001b[0m\n",
      "\u001b[?25hInstalling collected packages: ply, pyomo, rbfopt\n",
      "Successfully installed ply-3.11 pyomo-6.6.2 rbfopt-4.2.6\n"
     ]
    }
   ],
   "source": [
    "! pip install simpy\n",
    "! pip install rbfopt\n",
    "\n",
    "import simpy\n",
    "import numpy as np\n",
    "import rbfopt\n",
    "import pandas as pd\n",
    "import seaborn as sns\n",
    "import matplotlib.pyplot as plt"
   ]
  },
  {
   "cell_type": "code",
   "execution_count": 7,
   "metadata": {},
   "outputs": [],
   "source": [
    "# Factory class\n",
    "class Factory:\n",
    "    def __init__(\n",
    "            self, \n",
    "            env:simpy.Environment, \n",
    "            num_stages:int, \n",
    "            machine_times:list[float], \n",
    "            n_machines:list[int]\n",
    "            ) -> None:\n",
    "        self.env = env\n",
    "\n",
    "        self.machines = [simpy.Resource(env, n_machines[i]) \n",
    "            for i in range(num_stages)]\n",
    "        \n",
    "        self.machine_times = machine_times\n",
    "        self.n_machines = n_machines\n",
    "        self.num_stages = num_stages\n",
    "\n",
    "    def produce(self, m_id):\n",
    "        rt = np.random.exponential(scale=1.0/self.machine_times[m_id])\n",
    "        print(\"production time: \", rt, m_id)\n",
    "        yield self.env.timeout(rt)\n"
   ]
  },
  {
   "cell_type": "code",
   "execution_count": 8,
   "metadata": {},
   "outputs": [],
   "source": [
    "def manufacture(env:simpy.Environment, product_id:int, processor:Factory, data:list):\n",
    "\n",
    "    for i in range(processor.num_stages):\n",
    "        with processor.machines[i].request() as request:\n",
    "            # yield can also be seen as a 'wait for' statement\n",
    "            # wait for the machine to be ready\n",
    "            yield request\n",
    "            # wait for the factory to process the product\n",
    "            yield env.process(processor.produce(i))\n",
    "        print(f\"product id {product_id} finished processing stage {i} at {env.now}\")    \n",
    "    data.append([product_id, env.now])"
   ]
  },
  {
   "cell_type": "code",
   "execution_count": 9,
   "metadata": {},
   "outputs": [],
   "source": [
    "def setup(env:simpy.Environment, num_stages, num_machines, machine_times, delivery_interval:float):\n",
    "    factory = Factory(env, num_stages,machine_times, num_machines)\n",
    "    while True:\n",
    "        # wait for the next product to be delivered\n",
    "        yield env.timeout(np.random.exponential(1.0/delivery_interval))\n",
    "        print(f\"product {i} delivered at {env.now}\")\n",
    "        # if a new product is delivered, launch a new process that handles this product.\n",
    "        env.process(manufacture(env, i, factory))"
   ]
  },
  {
   "cell_type": "code",
   "execution_count": null,
   "metadata": {},
   "outputs": [],
   "source": [
    "NUM_MACHINES = [3, 5]\n",
    "MACHINE_TIMES = [0.1,0.2]\n",
    "\n",
    "DELIVERY_RATE = 1\n",
    "MACHINE_COSTS = [300,200]\n",
    "SIM_TIME = 120\n",
    "\n",
    "def run(num_machines):\n",
    "    data = []\n",
    "    env = simpy.Environment()\n",
    "    env.process(setup(env, len(num_machines), num_machines, MACHINE_TIMES, DELIVERY_RATE, data))\n",
    "    env.run(until=SIM_TIME)\n",
    "    return len(data)"
   ]
  }
 ],
 "metadata": {
  "kernelspec": {
   "display_name": "Python 3",
   "language": "python",
   "name": "python3"
  },
  "language_info": {
   "codemirror_mode": {
    "name": "ipython",
    "version": 3
   },
   "file_extension": ".py",
   "mimetype": "text/x-python",
   "name": "python",
   "nbconvert_exporter": "python",
   "pygments_lexer": "ipython3",
   "version": "3.10.8"
  },
  "orig_nbformat": 4
 },
 "nbformat": 4,
 "nbformat_minor": 2
}
