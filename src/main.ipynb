{
 "cells": [
  {
   "cell_type": "markdown",
   "metadata": {},
   "source": [
    "# TikTokers (TikTok Hackathon 2023)"
   ]
  },
  {
   "cell_type": "markdown",
   "metadata": {},
   "source": [
    "## Problem Set 1: Optimize Advertisement Moderation"
   ]
  },
  {
   "cell_type": "markdown",
   "metadata": {},
   "source": [
    "### Part A"
   ]
  },
  {
   "cell_type": "markdown",
   "metadata": {},
   "source": [
    "#### Import Libraries"
   ]
  },
  {
   "cell_type": "code",
   "execution_count": 1,
   "metadata": {},
   "outputs": [],
   "source": [
    "import pandas as pd\n",
    "import datetime\n",
    "from sklearn.mixture import BayesianGaussianMixture\n",
    "from sklearn.preprocessing import StandardScaler\n",
    "import numpy as np\n",
    "import simpy"
   ]
  },
  {
   "cell_type": "markdown",
   "metadata": {},
   "source": [
    "#### Data Preprocessing"
   ]
  },
  {
   "cell_type": "code",
   "execution_count": 2,
   "metadata": {},
   "outputs": [],
   "source": [
    "# Reading Data\n",
    "path = \"../data/data.xlsx\"\n",
    "\n",
    "ads = pd.read_excel(path, sheet_name='ads dimension (dim table)', header=1)\n",
    "mods = pd.read_excel(path, sheet_name='moderator dimension (dim table)')"
   ]
  },
  {
   "cell_type": "code",
   "execution_count": 3,
   "metadata": {},
   "outputs": [],
   "source": [
    "# ads\n",
    "ads['avg_ad_revenue'].isna().sum()\n",
    "max(ads['latest_punish_begin_date'])\n",
    "ads['p_date_new'] = pd.to_datetime(ads['p_date'], format='%Y%m%d')\n",
    "# ads\n",
    "# ads['p_date'].nunique()"
   ]
  },
  {
   "cell_type": "code",
   "execution_count": 4,
   "metadata": {},
   "outputs": [],
   "source": [
    "ads.ad_revenue = ads['ad_revenue'].fillna(0)\n",
    "ads = ads[ads['ad_revenue'] != 0]"
   ]
  },
  {
   "cell_type": "markdown",
   "metadata": {},
   "source": [
    "Fill in missing values for punish number based on inferred advertisers."
   ]
  },
  {
   "cell_type": "code",
   "execution_count": 5,
   "metadata": {},
   "outputs": [],
   "source": [
    "# ads.groupby('avg_ad_revenue')['punish_num'].fillna(ads.groupby('avg_ad_revenue')['punish_num'].agg('mode'))\n",
    "# lazy grouping\n",
    "groups = ads.groupby('avg_ad_revenue')\n",
    "\n",
    "# where all the rows within a group is NaN\n",
    "all_na = groups['punish_num'].transform(lambda x: x.isna().all())\n",
    "\n",
    "# fill global mode\n",
    "ads.loc[all_na, 'punish_num'] = ads['punish_num'].mode()[0]\n",
    "\n",
    "# fill with local mode\n",
    "mode_by_group = groups['punish_num'].transform(lambda x: x.mode()[0])\n",
    "ads['punish_num'] = ads['punish_num'].fillna(mode_by_group)\n",
    "ads['start_time'] = ads['start_time'].fillna(datetime.datetime(2000, 1, 1, 0))\n",
    "# mode = ads.groupby('avg_ad_revenue')['punish_num'].agg('mode')\n",
    "# mode"
   ]
  },
  {
   "cell_type": "code",
   "execution_count": 6,
   "metadata": {},
   "outputs": [],
   "source": [
    "# Feature Engineering\n",
    "ads['days_since_last_penalty'] = (ads['p_date_new'] - ads['latest_punish_begin_date']).dt.days\n",
    "ads['days_since_start_time'] = (ads['p_date_new'] - ads['start_time']).dt.days\n",
    "ads['revenue_ratio'] = (ads['ad_revenue'] / (ads['avg_ad_revenue'])).fillna(0)"
   ]
  },
  {
   "cell_type": "code",
   "execution_count": 7,
   "metadata": {},
   "outputs": [
    {
     "data": {
      "text/html": [
       "<div>\n",
       "<style scoped>\n",
       "    .dataframe tbody tr th:only-of-type {\n",
       "        vertical-align: middle;\n",
       "    }\n",
       "\n",
       "    .dataframe tbody tr th {\n",
       "        vertical-align: top;\n",
       "    }\n",
       "\n",
       "    .dataframe thead th {\n",
       "        text-align: right;\n",
       "    }\n",
       "</style>\n",
       "<table border=\"1\" class=\"dataframe\">\n",
       "  <thead>\n",
       "    <tr style=\"text-align: right;\">\n",
       "      <th></th>\n",
       "      <th>p_date</th>\n",
       "      <th>ad_id</th>\n",
       "      <th>delivery_country</th>\n",
       "      <th>queue_market</th>\n",
       "      <th>punish_num</th>\n",
       "      <th>latest_punish_begin_date</th>\n",
       "      <th>ad_revenue</th>\n",
       "      <th>avg_ad_revenue</th>\n",
       "      <th>start_time</th>\n",
       "      <th>baseline_st</th>\n",
       "      <th>product_line</th>\n",
       "      <th>task_type_en</th>\n",
       "      <th>p_date_new</th>\n",
       "      <th>days_since_last_penalty</th>\n",
       "      <th>days_since_start_time</th>\n",
       "      <th>revenue_ratio</th>\n",
       "    </tr>\n",
       "  </thead>\n",
       "  <tbody>\n",
       "    <tr>\n",
       "      <th>0</th>\n",
       "      <td>20230807</td>\n",
       "      <td>1747578422390810</td>\n",
       "      <td>US</td>\n",
       "      <td>USCA</td>\n",
       "      <td>1.0</td>\n",
       "      <td>2023-07-24</td>\n",
       "      <td>5132.1700</td>\n",
       "      <td>4795.250</td>\n",
       "      <td>2022-10-24 14:36:00</td>\n",
       "      <td>1.78</td>\n",
       "      <td>Auction Ads</td>\n",
       "      <td>auction_relation</td>\n",
       "      <td>2023-08-07</td>\n",
       "      <td>14</td>\n",
       "      <td>286</td>\n",
       "      <td>1.070261</td>\n",
       "    </tr>\n",
       "    <tr>\n",
       "      <th>1</th>\n",
       "      <td>20230807</td>\n",
       "      <td>1758543228094480</td>\n",
       "      <td>SA</td>\n",
       "      <td>MENA</td>\n",
       "      <td>1.0</td>\n",
       "      <td>2023-06-14</td>\n",
       "      <td>1976.2500</td>\n",
       "      <td>1063.767</td>\n",
       "      <td>2023-02-22 15:50:00</td>\n",
       "      <td>1.67</td>\n",
       "      <td>RIE</td>\n",
       "      <td>Ad Group Recall (Merged)</td>\n",
       "      <td>2023-08-07</td>\n",
       "      <td>54</td>\n",
       "      <td>165</td>\n",
       "      <td>1.857785</td>\n",
       "    </tr>\n",
       "    <tr>\n",
       "      <th>2</th>\n",
       "      <td>20230807</td>\n",
       "      <td>1738303151826990</td>\n",
       "      <td>AU</td>\n",
       "      <td>AU</td>\n",
       "      <td>2.0</td>\n",
       "      <td>2023-07-24</td>\n",
       "      <td>1.7355</td>\n",
       "      <td>5.365</td>\n",
       "      <td>2022-07-14 05:00:00</td>\n",
       "      <td>1.84</td>\n",
       "      <td>Auction Ads</td>\n",
       "      <td>auction_relation</td>\n",
       "      <td>2023-08-07</td>\n",
       "      <td>14</td>\n",
       "      <td>388</td>\n",
       "      <td>0.323486</td>\n",
       "    </tr>\n",
       "    <tr>\n",
       "      <th>4</th>\n",
       "      <td>20230807</td>\n",
       "      <td>1738304016410620</td>\n",
       "      <td>NZ</td>\n",
       "      <td>NZ</td>\n",
       "      <td>2.0</td>\n",
       "      <td>2023-07-24</td>\n",
       "      <td>1.5250</td>\n",
       "      <td>5.365</td>\n",
       "      <td>2022-07-14 05:17:00</td>\n",
       "      <td>1.58</td>\n",
       "      <td>Auction Ads</td>\n",
       "      <td>auction_relation</td>\n",
       "      <td>2023-08-07</td>\n",
       "      <td>14</td>\n",
       "      <td>388</td>\n",
       "      <td>0.284250</td>\n",
       "    </tr>\n",
       "    <tr>\n",
       "      <th>5</th>\n",
       "      <td>20230807</td>\n",
       "      <td>1738304421208090</td>\n",
       "      <td>NZ</td>\n",
       "      <td>NZ</td>\n",
       "      <td>2.0</td>\n",
       "      <td>2023-07-24</td>\n",
       "      <td>0.7889</td>\n",
       "      <td>5.365</td>\n",
       "      <td>2022-07-14 05:24:00</td>\n",
       "      <td>1.58</td>\n",
       "      <td>Auction Ads</td>\n",
       "      <td>auction_relation</td>\n",
       "      <td>2023-08-07</td>\n",
       "      <td>14</td>\n",
       "      <td>388</td>\n",
       "      <td>0.147046</td>\n",
       "    </tr>\n",
       "  </tbody>\n",
       "</table>\n",
       "</div>"
      ],
      "text/plain": [
       "     p_date             ad_id delivery_country queue_market  punish_num  \\\n",
       "0  20230807  1747578422390810               US         USCA         1.0   \n",
       "1  20230807  1758543228094480               SA         MENA         1.0   \n",
       "2  20230807  1738303151826990               AU           AU         2.0   \n",
       "4  20230807  1738304016410620               NZ           NZ         2.0   \n",
       "5  20230807  1738304421208090               NZ           NZ         2.0   \n",
       "\n",
       "  latest_punish_begin_date  ad_revenue  avg_ad_revenue          start_time  \\\n",
       "0               2023-07-24   5132.1700        4795.250 2022-10-24 14:36:00   \n",
       "1               2023-06-14   1976.2500        1063.767 2023-02-22 15:50:00   \n",
       "2               2023-07-24      1.7355           5.365 2022-07-14 05:00:00   \n",
       "4               2023-07-24      1.5250           5.365 2022-07-14 05:17:00   \n",
       "5               2023-07-24      0.7889           5.365 2022-07-14 05:24:00   \n",
       "\n",
       "   baseline_st product_line              task_type_en p_date_new  \\\n",
       "0         1.78  Auction Ads          auction_relation 2023-08-07   \n",
       "1         1.67          RIE  Ad Group Recall (Merged) 2023-08-07   \n",
       "2         1.84  Auction Ads          auction_relation 2023-08-07   \n",
       "4         1.58  Auction Ads          auction_relation 2023-08-07   \n",
       "5         1.58  Auction Ads          auction_relation 2023-08-07   \n",
       "\n",
       "   days_since_last_penalty  days_since_start_time  revenue_ratio  \n",
       "0                       14                    286       1.070261  \n",
       "1                       54                    165       1.857785  \n",
       "2                       14                    388       0.323486  \n",
       "4                       14                    388       0.284250  \n",
       "5                       14                    388       0.147046  "
      ]
     },
     "execution_count": 7,
     "metadata": {},
     "output_type": "execute_result"
    }
   ],
   "source": [
    "ads.head()"
   ]
  },
  {
   "cell_type": "code",
   "execution_count": 9,
   "metadata": {},
   "outputs": [],
   "source": [
    "data = ads[['ad_id', 'delivery_country', 'queue_market', 'baseline_st', 'punish_num', 'ad_revenue', 'avg_ad_revenue', 'days_since_last_penalty', 'days_since_start_time']]"
   ]
  },
  {
   "cell_type": "code",
   "execution_count": 10,
   "metadata": {},
   "outputs": [
    {
     "data": {
      "text/plain": [
       "array([[1747578422390810, 'US', 'USCA', ..., 4795.25, 14, 286],\n",
       "       [1758543228094480, 'SA', 'MENA', ..., 1063.767, 54, 165],\n",
       "       [1738303151826990, 'AU', 'AU', ..., 5.365, 14, 388],\n",
       "       ...,\n",
       "       [1773550979715070, 'VN', nan, ..., 0.4573, 8619, -1],\n",
       "       [1773599824579580, 'US', nan, ..., 4.1414, 8619, -1],\n",
       "       [1773551094679610, 'VN', nan, ..., 0.3121, 8619, -1]], dtype=object)"
      ]
     },
     "execution_count": 10,
     "metadata": {},
     "output_type": "execute_result"
    }
   ],
   "source": [
    "data.values"
   ]
  },
  {
   "cell_type": "code",
   "execution_count": 11,
   "metadata": {},
   "outputs": [
    {
     "data": {
      "text/html": [
       "<div>\n",
       "<style scoped>\n",
       "    .dataframe tbody tr th:only-of-type {\n",
       "        vertical-align: middle;\n",
       "    }\n",
       "\n",
       "    .dataframe tbody tr th {\n",
       "        vertical-align: top;\n",
       "    }\n",
       "\n",
       "    .dataframe thead th {\n",
       "        text-align: right;\n",
       "    }\n",
       "</style>\n",
       "<table border=\"1\" class=\"dataframe\">\n",
       "  <thead>\n",
       "    <tr style=\"text-align: right;\">\n",
       "      <th></th>\n",
       "      <th>ad_id</th>\n",
       "      <th>baseline_st</th>\n",
       "      <th>punish_num</th>\n",
       "      <th>ad_revenue</th>\n",
       "      <th>avg_ad_revenue</th>\n",
       "      <th>days_since_last_penalty</th>\n",
       "      <th>days_since_start_time</th>\n",
       "    </tr>\n",
       "  </thead>\n",
       "  <tbody>\n",
       "    <tr>\n",
       "      <th>count</th>\n",
       "      <td>2.841700e+04</td>\n",
       "      <td>28417.000000</td>\n",
       "      <td>28417.000000</td>\n",
       "      <td>28417.000000</td>\n",
       "      <td>28417.000000</td>\n",
       "      <td>28417.000000</td>\n",
       "      <td>28417.000000</td>\n",
       "    </tr>\n",
       "    <tr>\n",
       "      <th>mean</th>\n",
       "      <td>1.772813e+15</td>\n",
       "      <td>1.273988</td>\n",
       "      <td>1.009537</td>\n",
       "      <td>78.417707</td>\n",
       "      <td>26.920210</td>\n",
       "      <td>8164.963156</td>\n",
       "      <td>7.184502</td>\n",
       "    </tr>\n",
       "    <tr>\n",
       "      <th>std</th>\n",
       "      <td>2.778871e+12</td>\n",
       "      <td>0.629223</td>\n",
       "      <td>0.217351</td>\n",
       "      <td>502.800098</td>\n",
       "      <td>172.568797</td>\n",
       "      <td>1922.045125</td>\n",
       "      <td>30.609878</td>\n",
       "    </tr>\n",
       "    <tr>\n",
       "      <th>min</th>\n",
       "      <td>1.714641e+15</td>\n",
       "      <td>0.540000</td>\n",
       "      <td>1.000000</td>\n",
       "      <td>0.000100</td>\n",
       "      <td>0.000000</td>\n",
       "      <td>0.000000</td>\n",
       "      <td>-1.000000</td>\n",
       "    </tr>\n",
       "    <tr>\n",
       "      <th>25%</th>\n",
       "      <td>1.773294e+15</td>\n",
       "      <td>0.540000</td>\n",
       "      <td>1.000000</td>\n",
       "      <td>1.804400</td>\n",
       "      <td>1.213100</td>\n",
       "      <td>8619.000000</td>\n",
       "      <td>-1.000000</td>\n",
       "    </tr>\n",
       "    <tr>\n",
       "      <th>50%</th>\n",
       "      <td>1.773512e+15</td>\n",
       "      <td>1.530000</td>\n",
       "      <td>1.000000</td>\n",
       "      <td>6.680000</td>\n",
       "      <td>3.340600</td>\n",
       "      <td>8619.000000</td>\n",
       "      <td>0.000000</td>\n",
       "    </tr>\n",
       "    <tr>\n",
       "      <th>75%</th>\n",
       "      <td>1.773559e+15</td>\n",
       "      <td>1.780000</td>\n",
       "      <td>1.000000</td>\n",
       "      <td>21.578700</td>\n",
       "      <td>10.587700</td>\n",
       "      <td>8619.000000</td>\n",
       "      <td>2.000000</td>\n",
       "    </tr>\n",
       "    <tr>\n",
       "      <th>max</th>\n",
       "      <td>1.773616e+15</td>\n",
       "      <td>7.590000</td>\n",
       "      <td>16.000000</td>\n",
       "      <td>27100.620000</td>\n",
       "      <td>17144.498600</td>\n",
       "      <td>8619.000000</td>\n",
       "      <td>649.000000</td>\n",
       "    </tr>\n",
       "  </tbody>\n",
       "</table>\n",
       "</div>"
      ],
      "text/plain": [
       "              ad_id   baseline_st    punish_num    ad_revenue  avg_ad_revenue  \\\n",
       "count  2.841700e+04  28417.000000  28417.000000  28417.000000    28417.000000   \n",
       "mean   1.772813e+15      1.273988      1.009537     78.417707       26.920210   \n",
       "std    2.778871e+12      0.629223      0.217351    502.800098      172.568797   \n",
       "min    1.714641e+15      0.540000      1.000000      0.000100        0.000000   \n",
       "25%    1.773294e+15      0.540000      1.000000      1.804400        1.213100   \n",
       "50%    1.773512e+15      1.530000      1.000000      6.680000        3.340600   \n",
       "75%    1.773559e+15      1.780000      1.000000     21.578700       10.587700   \n",
       "max    1.773616e+15      7.590000     16.000000  27100.620000    17144.498600   \n",
       "\n",
       "       days_since_last_penalty  days_since_start_time  \n",
       "count             28417.000000           28417.000000  \n",
       "mean               8164.963156               7.184502  \n",
       "std                1922.045125              30.609878  \n",
       "min                   0.000000              -1.000000  \n",
       "25%                8619.000000              -1.000000  \n",
       "50%                8619.000000               0.000000  \n",
       "75%                8619.000000               2.000000  \n",
       "max                8619.000000             649.000000  "
      ]
     },
     "execution_count": 11,
     "metadata": {},
     "output_type": "execute_result"
    }
   ],
   "source": [
    "data.drop(columns=['delivery_country', 'queue_market']).describe()"
   ]
  }
 ],
 "metadata": {
  "kernelspec": {
   "display_name": "Python 3",
   "language": "python",
   "name": "python3"
  },
  "language_info": {
   "codemirror_mode": {
    "name": "ipython",
    "version": 3
   },
   "file_extension": ".py",
   "mimetype": "text/x-python",
   "name": "python",
   "nbconvert_exporter": "python",
   "pygments_lexer": "ipython3",
   "version": "3.10.8"
  },
  "orig_nbformat": 4
 },
 "nbformat": 4,
 "nbformat_minor": 2
}
