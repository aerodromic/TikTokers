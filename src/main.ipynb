{
 "cells": [
  {
   "cell_type": "markdown",
   "metadata": {},
   "source": [
    "# TikTokers (TikTok Hackathon 2023)\n",
    "## Problem Set 1: Optimise Advertisement Moderation"
   ]
  },
  {
   "cell_type": "markdown",
   "metadata": {},
   "source": [
    "## Import Libraries"
   ]
  },
  {
   "cell_type": "code",
   "execution_count": 1,
   "metadata": {},
   "outputs": [
    {
     "ename": "ModuleNotFoundError",
     "evalue": "No module named 'simulator'",
     "output_type": "error",
     "traceback": [
      "\u001b[0;31m---------------------------------------------------------------------------\u001b[0m",
      "\u001b[0;31mModuleNotFoundError\u001b[0m                       Traceback (most recent call last)",
      "\u001b[1;32m/workspaces/TikTokers/src/main.ipynb Cell 3\u001b[0m line \u001b[0;36m6\n\u001b[1;32m      <a href='vscode-notebook-cell://codespaces%2Bsymmetrical-acorn-j64gw5pj74hj5jx/workspaces/TikTokers/src/main.ipynb#W2sdnNjb2RlLXJlbW90ZQ%3D%3D?line=3'>4</a>\u001b[0m \u001b[39mfrom\u001b[39;00m \u001b[39msklearn\u001b[39;00m\u001b[39m.\u001b[39;00m\u001b[39mpreprocessing\u001b[39;00m \u001b[39mimport\u001b[39;00m StandardScaler\n\u001b[1;32m      <a href='vscode-notebook-cell://codespaces%2Bsymmetrical-acorn-j64gw5pj74hj5jx/workspaces/TikTokers/src/main.ipynb#W2sdnNjb2RlLXJlbW90ZQ%3D%3D?line=4'>5</a>\u001b[0m \u001b[39mfrom\u001b[39;00m \u001b[39msklearn\u001b[39;00m\u001b[39m.\u001b[39;00m\u001b[39mmixture\u001b[39;00m \u001b[39mimport\u001b[39;00m GaussianMixture, BayesianGaussianMixture\n\u001b[0;32m----> <a href='vscode-notebook-cell://codespaces%2Bsymmetrical-acorn-j64gw5pj74hj5jx/workspaces/TikTokers/src/main.ipynb#W2sdnNjb2RlLXJlbW90ZQ%3D%3D?line=5'>6</a>\u001b[0m \u001b[39mfrom\u001b[39;00m \u001b[39msimulator\u001b[39;00m \u001b[39mimport\u001b[39;00m simulate\n",
      "\u001b[0;31mModuleNotFoundError\u001b[0m: No module named 'simulator'"
     ]
    }
   ],
   "source": [
    "import pandas as pd\n",
    "from ad_scorer import compute_risk_scores\n",
    "from preprocessing import clean_ads\n",
    "from sklearn.preprocessing import StandardScaler\n",
    "from sklearn.mixture import GaussianMixture, BayesianGaussianMixture\n",
    "from simulator import simulate"
   ]
  },
  {
   "cell_type": "markdown",
   "metadata": {},
   "source": [
    "## Preprocessing step"
   ]
  },
  {
   "cell_type": "code",
   "execution_count": 40,
   "metadata": {},
   "outputs": [
    {
     "name": "stderr",
     "output_type": "stream",
     "text": [
      "/Users/kevin/Documents/GitHub/TikTokers/env/lib/python3.7/site-packages/pandas/core/indexing.py:1817: SettingWithCopyWarning: \n",
      "A value is trying to be set on a copy of a slice from a DataFrame.\n",
      "Try using .loc[row_indexer,col_indexer] = value instead\n",
      "\n",
      "See the caveats in the documentation: https://pandas.pydata.org/pandas-docs/stable/user_guide/indexing.html#returning-a-view-versus-a-copy\n",
      "  self._setitem_single_column(loc, value, pi)\n",
      "/Users/kevin/Documents/GitHub/TikTokers/src/preprocessing.py:22: SettingWithCopyWarning: \n",
      "A value is trying to be set on a copy of a slice from a DataFrame.\n",
      "Try using .loc[row_indexer,col_indexer] = value instead\n",
      "\n",
      "See the caveats in the documentation: https://pandas.pydata.org/pandas-docs/stable/user_guide/indexing.html#returning-a-view-versus-a-copy\n",
      "  ads['punish_num'] = ads['punish_num'].fillna(mode_by_group)\n",
      "/Users/kevin/Documents/GitHub/TikTokers/src/preprocessing.py:23: SettingWithCopyWarning: \n",
      "A value is trying to be set on a copy of a slice from a DataFrame.\n",
      "Try using .loc[row_indexer,col_indexer] = value instead\n",
      "\n",
      "See the caveats in the documentation: https://pandas.pydata.org/pandas-docs/stable/user_guide/indexing.html#returning-a-view-versus-a-copy\n",
      "  ads['start_time'] = ads['start_time'].fillna(datetime.datetime(2000, 1, 1, 0))\n",
      "/Users/kevin/Documents/GitHub/TikTokers/src/preprocessing.py:28: SettingWithCopyWarning: \n",
      "A value is trying to be set on a copy of a slice from a DataFrame.\n",
      "Try using .loc[row_indexer,col_indexer] = value instead\n",
      "\n",
      "See the caveats in the documentation: https://pandas.pydata.org/pandas-docs/stable/user_guide/indexing.html#returning-a-view-versus-a-copy\n",
      "  ads['p_date_new'] - ads['latest_punish_begin_date']).dt.days\n",
      "/Users/kevin/Documents/GitHub/TikTokers/src/preprocessing.py:29: SettingWithCopyWarning: \n",
      "A value is trying to be set on a copy of a slice from a DataFrame.\n",
      "Try using .loc[row_indexer,col_indexer] = value instead\n",
      "\n",
      "See the caveats in the documentation: https://pandas.pydata.org/pandas-docs/stable/user_guide/indexing.html#returning-a-view-versus-a-copy\n",
      "  ads['days_since_start_time'] = (ads['p_date_new'] - ads['start_time']).dt.days\n",
      "/Users/kevin/Documents/GitHub/TikTokers/src/preprocessing.py:30: SettingWithCopyWarning: \n",
      "A value is trying to be set on a copy of a slice from a DataFrame.\n",
      "Try using .loc[row_indexer,col_indexer] = value instead\n",
      "\n",
      "See the caveats in the documentation: https://pandas.pydata.org/pandas-docs/stable/user_guide/indexing.html#returning-a-view-versus-a-copy\n",
      "  ads['revenue_ratio'] = (ads['ad_revenue'] / (ads['avg_ad_revenue'])).fillna(0)\n"
     ]
    },
    {
     "data": {
      "text/html": [
       "<div>\n",
       "<style scoped>\n",
       "    .dataframe tbody tr th:only-of-type {\n",
       "        vertical-align: middle;\n",
       "    }\n",
       "\n",
       "    .dataframe tbody tr th {\n",
       "        vertical-align: top;\n",
       "    }\n",
       "\n",
       "    .dataframe thead th {\n",
       "        text-align: right;\n",
       "    }\n",
       "</style>\n",
       "<table border=\"1\" class=\"dataframe\">\n",
       "  <thead>\n",
       "    <tr style=\"text-align: right;\">\n",
       "      <th></th>\n",
       "      <th>p_date</th>\n",
       "      <th>ad_id</th>\n",
       "      <th>punish_num</th>\n",
       "      <th>ad_revenue</th>\n",
       "      <th>avg_ad_revenue</th>\n",
       "      <th>baseline_st</th>\n",
       "      <th>days_since_last_penalty</th>\n",
       "      <th>days_since_start_time</th>\n",
       "      <th>revenue_ratio</th>\n",
       "    </tr>\n",
       "  </thead>\n",
       "  <tbody>\n",
       "    <tr>\n",
       "      <th>count</th>\n",
       "      <td>28119.0</td>\n",
       "      <td>2.811900e+04</td>\n",
       "      <td>28119.000000</td>\n",
       "      <td>28119.000000</td>\n",
       "      <td>28119.000000</td>\n",
       "      <td>28119.000000</td>\n",
       "      <td>28119.000000</td>\n",
       "      <td>28119.000000</td>\n",
       "      <td>28119.000000</td>\n",
       "    </tr>\n",
       "    <tr>\n",
       "      <th>mean</th>\n",
       "      <td>20230807.0</td>\n",
       "      <td>1.772808e+15</td>\n",
       "      <td>1.009566</td>\n",
       "      <td>78.868235</td>\n",
       "      <td>27.205505</td>\n",
       "      <td>1.273209</td>\n",
       "      <td>8166.264056</td>\n",
       "      <td>7.256410</td>\n",
       "      <td>7.225628</td>\n",
       "    </tr>\n",
       "    <tr>\n",
       "      <th>std</th>\n",
       "      <td>0.0</td>\n",
       "      <td>2.791198e+12</td>\n",
       "      <td>0.218338</td>\n",
       "      <td>505.321665</td>\n",
       "      <td>173.458473</td>\n",
       "      <td>0.629597</td>\n",
       "      <td>1919.437127</td>\n",
       "      <td>30.750441</td>\n",
       "      <td>266.623935</td>\n",
       "    </tr>\n",
       "    <tr>\n",
       "      <th>min</th>\n",
       "      <td>20230807.0</td>\n",
       "      <td>1.714641e+15</td>\n",
       "      <td>1.000000</td>\n",
       "      <td>0.000100</td>\n",
       "      <td>0.000100</td>\n",
       "      <td>0.540000</td>\n",
       "      <td>0.000000</td>\n",
       "      <td>-1.000000</td>\n",
       "      <td>0.000005</td>\n",
       "    </tr>\n",
       "    <tr>\n",
       "      <th>25%</th>\n",
       "      <td>20230807.0</td>\n",
       "      <td>1.773293e+15</td>\n",
       "      <td>1.000000</td>\n",
       "      <td>1.810000</td>\n",
       "      <td>1.256850</td>\n",
       "      <td>0.540000</td>\n",
       "      <td>8619.000000</td>\n",
       "      <td>-1.000000</td>\n",
       "      <td>0.861865</td>\n",
       "    </tr>\n",
       "    <tr>\n",
       "      <th>50%</th>\n",
       "      <td>20230807.0</td>\n",
       "      <td>1.773511e+15</td>\n",
       "      <td>1.000000</td>\n",
       "      <td>6.680000</td>\n",
       "      <td>3.391200</td>\n",
       "      <td>1.530000</td>\n",
       "      <td>8619.000000</td>\n",
       "      <td>0.000000</td>\n",
       "      <td>1.869176</td>\n",
       "    </tr>\n",
       "    <tr>\n",
       "      <th>75%</th>\n",
       "      <td>20230807.0</td>\n",
       "      <td>1.773558e+15</td>\n",
       "      <td>1.000000</td>\n",
       "      <td>21.633250</td>\n",
       "      <td>10.808000</td>\n",
       "      <td>1.780000</td>\n",
       "      <td>8619.000000</td>\n",
       "      <td>2.000000</td>\n",
       "      <td>3.978838</td>\n",
       "    </tr>\n",
       "    <tr>\n",
       "      <th>max</th>\n",
       "      <td>20230807.0</td>\n",
       "      <td>1.773616e+15</td>\n",
       "      <td>16.000000</td>\n",
       "      <td>27100.620000</td>\n",
       "      <td>17144.498600</td>\n",
       "      <td>7.590000</td>\n",
       "      <td>8619.000000</td>\n",
       "      <td>649.000000</td>\n",
       "      <td>43645.985507</td>\n",
       "    </tr>\n",
       "  </tbody>\n",
       "</table>\n",
       "</div>"
      ],
      "text/plain": [
       "           p_date         ad_id    punish_num    ad_revenue  avg_ad_revenue  \\\n",
       "count     28119.0  2.811900e+04  28119.000000  28119.000000    28119.000000   \n",
       "mean   20230807.0  1.772808e+15      1.009566     78.868235       27.205505   \n",
       "std           0.0  2.791198e+12      0.218338    505.321665      173.458473   \n",
       "min    20230807.0  1.714641e+15      1.000000      0.000100        0.000100   \n",
       "25%    20230807.0  1.773293e+15      1.000000      1.810000        1.256850   \n",
       "50%    20230807.0  1.773511e+15      1.000000      6.680000        3.391200   \n",
       "75%    20230807.0  1.773558e+15      1.000000     21.633250       10.808000   \n",
       "max    20230807.0  1.773616e+15     16.000000  27100.620000    17144.498600   \n",
       "\n",
       "        baseline_st  days_since_last_penalty  days_since_start_time  \\\n",
       "count  28119.000000             28119.000000           28119.000000   \n",
       "mean       1.273209              8166.264056               7.256410   \n",
       "std        0.629597              1919.437127              30.750441   \n",
       "min        0.540000                 0.000000              -1.000000   \n",
       "25%        0.540000              8619.000000              -1.000000   \n",
       "50%        1.530000              8619.000000               0.000000   \n",
       "75%        1.780000              8619.000000               2.000000   \n",
       "max        7.590000              8619.000000             649.000000   \n",
       "\n",
       "       revenue_ratio  \n",
       "count   28119.000000  \n",
       "mean        7.225628  \n",
       "std       266.623935  \n",
       "min         0.000005  \n",
       "25%         0.861865  \n",
       "50%         1.869176  \n",
       "75%         3.978838  \n",
       "max     43645.985507  "
      ]
     },
     "execution_count": 40,
     "metadata": {},
     "output_type": "execute_result"
    }
   ],
   "source": [
    "\n",
    "path = \"../data/data.xlsx\"\n",
    "ads_table = pd.read_excel(path, sheet_name = 0, header = 1)\n",
    "mod_table = pd.read_excel(path, sheet_name = 1)\n",
    "\n",
    "ads_table = clean_ads(ads_table)\n",
    "\n",
    "ads_table.describe()"
   ]
  },
  {
   "cell_type": "markdown",
   "metadata": {},
   "source": [
    "## Scale features"
   ]
  },
  {
   "cell_type": "code",
   "execution_count": 41,
   "metadata": {},
   "outputs": [],
   "source": [
    "ad_cols = ['baseline_st', 'punish_num', 'ad_revenue', 'avg_ad_revenue', 'revenue_ratio', 'days_since_last_penalty', 'days_since_start_time']\n",
    "scaler_ads = StandardScaler()\n",
    "X_ads = scaler_ads.fit_transform(\n",
    "    ads_table[ad_cols].values)\n",
    "\n",
    "mod_cols = ['handling time'] # define relevant columns for moderators\n",
    "scaler_mods = StandardScaler()\n",
    "X_mods = scaler_mods.fit_transform(mod_table[mod_cols].values)"
   ]
  },
  {
   "cell_type": "markdown",
   "metadata": {},
   "source": [
    "## Define the Loss Function"
   ]
  },
  {
   "cell_type": "code",
   "execution_count": 42,
   "metadata": {},
   "outputs": [],
   "source": [
    "def loss(ads: pd.DataFrame, mods: pd.DataFrame):\n",
    "    # Loss is determined by combination of results obtained from the simulation.\n",
    "    utilization, mismatch = simulate(ads, mods)\n",
    "    return"
   ]
  },
  {
   "cell_type": "markdown",
   "metadata": {},
   "source": [
    "## Run the Simulation\n",
    "Monte Carlo simulation of the advertisement allocation process. From the simulations we will take the pair of models that arrived at the best possible result based on our loss function."
   ]
  },
  {
   "cell_type": "code",
   "execution_count": 43,
   "metadata": {},
   "outputs": [
    {
     "ename": "AttributeError",
     "evalue": "'numpy.ndarray' object has no attribute 'apply'",
     "output_type": "error",
     "traceback": [
      "\u001b[0;31m---------------------------------------------------------------------------\u001b[0m",
      "\u001b[0;31mAttributeError\u001b[0m                            Traceback (most recent call last)",
      "\u001b[0;32m/var/folders/n9/m48w3wy138d5qtmhqsvmky_00000gn/T/ipykernel_80173/3177826103.py\u001b[0m in \u001b[0;36m<module>\u001b[0;34m\u001b[0m\n\u001b[1;32m     19\u001b[0m     \u001b[0mads_table\u001b[0m\u001b[0;34m[\u001b[0m\u001b[0;34m'score'\u001b[0m\u001b[0;34m]\u001b[0m \u001b[0;34m=\u001b[0m \u001b[0mad_risk_scores\u001b[0m\u001b[0;34m\u001b[0m\u001b[0;34m\u001b[0m\u001b[0m\n\u001b[1;32m     20\u001b[0m     \u001b[0mmod_table\u001b[0m\u001b[0;34m[\u001b[0m\u001b[0;34m'score'\u001b[0m\u001b[0;34m]\u001b[0m \u001b[0;34m=\u001b[0m \u001b[0mmod_scores\u001b[0m\u001b[0;34m\u001b[0m\u001b[0;34m\u001b[0m\u001b[0m\n\u001b[0;32m---> 21\u001b[0;31m     \u001b[0mcurrent_loss\u001b[0m \u001b[0;34m=\u001b[0m \u001b[0mloss\u001b[0m\u001b[0;34m(\u001b[0m\u001b[0mX_ads\u001b[0m\u001b[0;34m,\u001b[0m \u001b[0mX_mods\u001b[0m\u001b[0;34m)\u001b[0m \u001b[0;31m# run simulation based on the dataframe of ads and moderators with the assigned scores\u001b[0m\u001b[0;34m\u001b[0m\u001b[0;34m\u001b[0m\u001b[0m\n\u001b[0m\u001b[1;32m     22\u001b[0m     \u001b[0mprint\u001b[0m\u001b[0;34m(\u001b[0m\u001b[0;34mf\"Iteration: {i}    Loss: {current_loss}\"\u001b[0m\u001b[0;34m)\u001b[0m\u001b[0;34m\u001b[0m\u001b[0;34m\u001b[0m\u001b[0m\n\u001b[1;32m     23\u001b[0m \u001b[0;34m\u001b[0m\u001b[0m\n",
      "\u001b[0;32m/var/folders/n9/m48w3wy138d5qtmhqsvmky_00000gn/T/ipykernel_80173/2299762308.py\u001b[0m in \u001b[0;36mloss\u001b[0;34m(ads, mods)\u001b[0m\n\u001b[1;32m      1\u001b[0m \u001b[0;32mdef\u001b[0m \u001b[0mloss\u001b[0m\u001b[0;34m(\u001b[0m\u001b[0mads\u001b[0m\u001b[0;34m:\u001b[0m \u001b[0mpd\u001b[0m\u001b[0;34m.\u001b[0m\u001b[0mDataFrame\u001b[0m\u001b[0;34m,\u001b[0m \u001b[0mmods\u001b[0m\u001b[0;34m:\u001b[0m \u001b[0mpd\u001b[0m\u001b[0;34m.\u001b[0m\u001b[0mDataFrame\u001b[0m\u001b[0;34m)\u001b[0m\u001b[0;34m:\u001b[0m\u001b[0;34m\u001b[0m\u001b[0;34m\u001b[0m\u001b[0m\n\u001b[1;32m      2\u001b[0m     \u001b[0;31m# Loss is determined by combination of results obtained from the simulation.\u001b[0m\u001b[0;34m\u001b[0m\u001b[0;34m\u001b[0m\u001b[0;34m\u001b[0m\u001b[0m\n\u001b[0;32m----> 3\u001b[0;31m     \u001b[0mutilization\u001b[0m\u001b[0;34m,\u001b[0m \u001b[0mmismatch\u001b[0m \u001b[0;34m=\u001b[0m \u001b[0msimulate\u001b[0m\u001b[0;34m(\u001b[0m\u001b[0mads\u001b[0m\u001b[0;34m,\u001b[0m \u001b[0mmods\u001b[0m\u001b[0;34m)\u001b[0m\u001b[0;34m\u001b[0m\u001b[0;34m\u001b[0m\u001b[0m\n\u001b[0m\u001b[1;32m      4\u001b[0m     \u001b[0;32mreturn\u001b[0m\u001b[0;34m\u001b[0m\u001b[0;34m\u001b[0m\u001b[0m\n",
      "\u001b[0;32m~/Documents/GitHub/TikTokers/src/simulator.py\u001b[0m in \u001b[0;36msimulate\u001b[0;34m(ads_table, mods_table)\u001b[0m\n\u001b[1;32m     95\u001b[0m \u001b[0;34m\u001b[0m\u001b[0m\n\u001b[1;32m     96\u001b[0m     \u001b[0;31m# Advertisement List (name, market, date, score, profit)\u001b[0m\u001b[0;34m\u001b[0m\u001b[0;34m\u001b[0m\u001b[0;34m\u001b[0m\u001b[0m\n\u001b[0;32m---> 97\u001b[0;31m     \u001b[0mads\u001b[0m \u001b[0;34m=\u001b[0m \u001b[0mads_table\u001b[0m\u001b[0;34m.\u001b[0m\u001b[0mapply\u001b[0m\u001b[0;34m(\u001b[0m\u001b[0mAdvertisement\u001b[0m\u001b[0;34m)\u001b[0m\u001b[0;34m.\u001b[0m\u001b[0mtolist\u001b[0m\u001b[0;34m(\u001b[0m\u001b[0;34m)\u001b[0m\u001b[0;34m\u001b[0m\u001b[0;34m\u001b[0m\u001b[0m\n\u001b[0m\u001b[1;32m     98\u001b[0m     \u001b[0madvertisements\u001b[0m \u001b[0;34m=\u001b[0m \u001b[0msorted\u001b[0m\u001b[0;34m(\u001b[0m\u001b[0madvertisements\u001b[0m\u001b[0;34m,\u001b[0m \u001b[0mkey\u001b[0m \u001b[0;34m=\u001b[0m \u001b[0;32mlambda\u001b[0m \u001b[0mx\u001b[0m\u001b[0;34m:\u001b[0m\u001b[0mx\u001b[0m\u001b[0;34m.\u001b[0m\u001b[0mdate\u001b[0m\u001b[0;34m)\u001b[0m\u001b[0;34m\u001b[0m\u001b[0;34m\u001b[0m\u001b[0m\n\u001b[1;32m     99\u001b[0m \u001b[0;34m\u001b[0m\u001b[0m\n",
      "\u001b[0;31mAttributeError\u001b[0m: 'numpy.ndarray' object has no attribute 'apply'"
     ]
    }
   ],
   "source": [
    "max_iterations = 10000\n",
    "best_loss = float('inf')  # or -float('inf') if you're maximizing\n",
    "best_gmms = None # will be a tuple of the best models for ads and moderators after running all simulations\n",
    "tolerance = 1e-5\n",
    "n_components = 3 # use if using GaussianMixture instead of BayesianGaussianMixture\n",
    "\n",
    "previous_loss = best_loss\n",
    "\n",
    "for i in range(max_iterations):\n",
    "    gmm_ads = GaussianMixture(n_components=n_components)\n",
    "    gmm_ads.fit(X_ads)\n",
    "\n",
    "    gmm_mods = GaussianMixture(n_components=n_components)\n",
    "    gmm_mods.fit(X_mods)\n",
    "\n",
    "    ad_risk_scores = compute_risk_scores(X_ads, gmm_ads)\n",
    "    mod_scores = compute_risk_scores(X_mods, gmm_mods)\n",
    "    \n",
    "    ads_table['score'] = ad_risk_scores\n",
    "    mod_table['score'] = mod_scores\n",
    "    current_loss = loss(X_ads, X_mods) # run simulation based on the dataframe of ads and moderators with the assigned scores\n",
    "    print(f\"Iteration: {i}    Loss: {current_loss}\")\n",
    "\n",
    "    # if abs(current_loss - previous_loss) < tolerance:\n",
    "    #     break\n",
    "\n",
    "    if current_loss < best_loss:  # Use > if you're maximizing the loss\n",
    "        best_loss = current_loss\n",
    "        best_gmms = (gmm_ads, gmm_mods)\n",
    "\n",
    "    previous_loss = current_loss\n",
    "\n",
    "# best_gmms now contains the models with the lowest observed loss\n",
    "print(f\"Best GMM models achieved loss of: {best_loss}\")"
   ]
  },
  {
   "cell_type": "code",
   "execution_count": null,
   "metadata": {},
   "outputs": [],
   "source": []
  }
 ],
 "metadata": {
  "kernelspec": {
   "display_name": "Python 3",
   "language": "python",
   "name": "python3"
  },
  "language_info": {
   "codemirror_mode": {
    "name": "ipython",
    "version": 3
   },
   "file_extension": ".py",
   "mimetype": "text/x-python",
   "name": "python",
   "nbconvert_exporter": "python",
   "pygments_lexer": "ipython3",
   "version": "3.10.8"
  },
  "orig_nbformat": 4
 },
 "nbformat": 4,
 "nbformat_minor": 2
}
