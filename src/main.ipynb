{
 "cells": [
  {
   "cell_type": "markdown",
   "metadata": {},
   "source": [
    "# TikTokers (TikTok Hackathon 2023)\n",
    "## Problem Set 1: Optimise Advertisement Moderation"
   ]
  },
  {
   "cell_type": "markdown",
   "metadata": {},
   "source": [
    "## Import Libraries"
   ]
  },
  {
   "cell_type": "code",
   "execution_count": 9,
   "metadata": {},
   "outputs": [],
   "source": [
    "import pandas as pd\n",
    "from sklearn.preprocessing import StandardScaler\n",
    "from sklearn.mixture import GaussianMixture, BayesianGaussianMixture"
   ]
  },
  {
   "cell_type": "code",
   "execution_count": 10,
   "metadata": {},
   "outputs": [],
   "source": [
    "from ad_scorer import compute_risk_scores\n",
    "from preprocessing import clean_ads\n",
    "from simulator import simulate"
   ]
  },
  {
   "cell_type": "markdown",
   "metadata": {},
   "source": [
    "## Preprocessing step"
   ]
  },
  {
   "cell_type": "code",
   "execution_count": 11,
   "metadata": {},
   "outputs": [
    {
     "name": "stderr",
     "output_type": "stream",
     "text": [
      "/workspaces/TikTokers/src/preprocessing.py:22: SettingWithCopyWarning: \n",
      "A value is trying to be set on a copy of a slice from a DataFrame.\n",
      "Try using .loc[row_indexer,col_indexer] = value instead\n",
      "\n",
      "See the caveats in the documentation: https://pandas.pydata.org/pandas-docs/stable/user_guide/indexing.html#returning-a-view-versus-a-copy\n",
      "  ads['punish_num'] = ads['punish_num'].fillna(mode_by_group)\n",
      "/workspaces/TikTokers/src/preprocessing.py:23: SettingWithCopyWarning: \n",
      "A value is trying to be set on a copy of a slice from a DataFrame.\n",
      "Try using .loc[row_indexer,col_indexer] = value instead\n",
      "\n",
      "See the caveats in the documentation: https://pandas.pydata.org/pandas-docs/stable/user_guide/indexing.html#returning-a-view-versus-a-copy\n",
      "  ads['start_time'] = ads['start_time'].fillna(datetime.datetime(2000, 1, 1, 0))\n",
      "/workspaces/TikTokers/src/preprocessing.py:27: SettingWithCopyWarning: \n",
      "A value is trying to be set on a copy of a slice from a DataFrame.\n",
      "Try using .loc[row_indexer,col_indexer] = value instead\n",
      "\n",
      "See the caveats in the documentation: https://pandas.pydata.org/pandas-docs/stable/user_guide/indexing.html#returning-a-view-versus-a-copy\n",
      "  ads['days_since_last_penalty'] = (\n",
      "/workspaces/TikTokers/src/preprocessing.py:29: SettingWithCopyWarning: \n",
      "A value is trying to be set on a copy of a slice from a DataFrame.\n",
      "Try using .loc[row_indexer,col_indexer] = value instead\n",
      "\n",
      "See the caveats in the documentation: https://pandas.pydata.org/pandas-docs/stable/user_guide/indexing.html#returning-a-view-versus-a-copy\n",
      "  ads['days_since_start_time'] = (ads['p_date_new'] - ads['start_time']).dt.days\n",
      "/workspaces/TikTokers/src/preprocessing.py:30: SettingWithCopyWarning: \n",
      "A value is trying to be set on a copy of a slice from a DataFrame.\n",
      "Try using .loc[row_indexer,col_indexer] = value instead\n",
      "\n",
      "See the caveats in the documentation: https://pandas.pydata.org/pandas-docs/stable/user_guide/indexing.html#returning-a-view-versus-a-copy\n",
      "  ads['revenue_ratio'] = (ads['ad_revenue'] / (ads['avg_ad_revenue'])).fillna(0)\n"
     ]
    },
    {
     "data": {
      "text/html": [
       "<div>\n",
       "<style scoped>\n",
       "    .dataframe tbody tr th:only-of-type {\n",
       "        vertical-align: middle;\n",
       "    }\n",
       "\n",
       "    .dataframe tbody tr th {\n",
       "        vertical-align: top;\n",
       "    }\n",
       "\n",
       "    .dataframe thead th {\n",
       "        text-align: right;\n",
       "    }\n",
       "</style>\n",
       "<table border=\"1\" class=\"dataframe\">\n",
       "  <thead>\n",
       "    <tr style=\"text-align: right;\">\n",
       "      <th></th>\n",
       "      <th>ad_id</th>\n",
       "      <th>baseline_st</th>\n",
       "      <th>punish_num</th>\n",
       "      <th>ad_revenue</th>\n",
       "      <th>avg_ad_revenue</th>\n",
       "      <th>revenue_ratio</th>\n",
       "      <th>days_since_last_penalty</th>\n",
       "      <th>days_since_start_time</th>\n",
       "    </tr>\n",
       "  </thead>\n",
       "  <tbody>\n",
       "    <tr>\n",
       "      <th>count</th>\n",
       "      <td>2.811900e+04</td>\n",
       "      <td>28119.000000</td>\n",
       "      <td>28119.000000</td>\n",
       "      <td>28119.000000</td>\n",
       "      <td>28119.000000</td>\n",
       "      <td>28119.000000</td>\n",
       "      <td>28119.000000</td>\n",
       "      <td>28119.000000</td>\n",
       "    </tr>\n",
       "    <tr>\n",
       "      <th>mean</th>\n",
       "      <td>1.772808e+15</td>\n",
       "      <td>1.273209</td>\n",
       "      <td>1.009566</td>\n",
       "      <td>78.868235</td>\n",
       "      <td>27.205505</td>\n",
       "      <td>7.225628</td>\n",
       "      <td>8166.264056</td>\n",
       "      <td>7.256410</td>\n",
       "    </tr>\n",
       "    <tr>\n",
       "      <th>std</th>\n",
       "      <td>2.791198e+12</td>\n",
       "      <td>0.629597</td>\n",
       "      <td>0.218338</td>\n",
       "      <td>505.321665</td>\n",
       "      <td>173.458473</td>\n",
       "      <td>266.623935</td>\n",
       "      <td>1919.437127</td>\n",
       "      <td>30.750441</td>\n",
       "    </tr>\n",
       "    <tr>\n",
       "      <th>min</th>\n",
       "      <td>1.714641e+15</td>\n",
       "      <td>0.540000</td>\n",
       "      <td>1.000000</td>\n",
       "      <td>0.000100</td>\n",
       "      <td>0.000100</td>\n",
       "      <td>0.000005</td>\n",
       "      <td>0.000000</td>\n",
       "      <td>-1.000000</td>\n",
       "    </tr>\n",
       "    <tr>\n",
       "      <th>25%</th>\n",
       "      <td>1.773293e+15</td>\n",
       "      <td>0.540000</td>\n",
       "      <td>1.000000</td>\n",
       "      <td>1.810000</td>\n",
       "      <td>1.256850</td>\n",
       "      <td>0.861865</td>\n",
       "      <td>8619.000000</td>\n",
       "      <td>-1.000000</td>\n",
       "    </tr>\n",
       "    <tr>\n",
       "      <th>50%</th>\n",
       "      <td>1.773511e+15</td>\n",
       "      <td>1.530000</td>\n",
       "      <td>1.000000</td>\n",
       "      <td>6.680000</td>\n",
       "      <td>3.391200</td>\n",
       "      <td>1.869176</td>\n",
       "      <td>8619.000000</td>\n",
       "      <td>0.000000</td>\n",
       "    </tr>\n",
       "    <tr>\n",
       "      <th>75%</th>\n",
       "      <td>1.773558e+15</td>\n",
       "      <td>1.780000</td>\n",
       "      <td>1.000000</td>\n",
       "      <td>21.633250</td>\n",
       "      <td>10.808000</td>\n",
       "      <td>3.978838</td>\n",
       "      <td>8619.000000</td>\n",
       "      <td>2.000000</td>\n",
       "    </tr>\n",
       "    <tr>\n",
       "      <th>max</th>\n",
       "      <td>1.773616e+15</td>\n",
       "      <td>7.590000</td>\n",
       "      <td>16.000000</td>\n",
       "      <td>27100.620000</td>\n",
       "      <td>17144.498600</td>\n",
       "      <td>43645.985507</td>\n",
       "      <td>8619.000000</td>\n",
       "      <td>649.000000</td>\n",
       "    </tr>\n",
       "  </tbody>\n",
       "</table>\n",
       "</div>"
      ],
      "text/plain": [
       "              ad_id   baseline_st    punish_num    ad_revenue  avg_ad_revenue  \\\n",
       "count  2.811900e+04  28119.000000  28119.000000  28119.000000    28119.000000   \n",
       "mean   1.772808e+15      1.273209      1.009566     78.868235       27.205505   \n",
       "std    2.791198e+12      0.629597      0.218338    505.321665      173.458473   \n",
       "min    1.714641e+15      0.540000      1.000000      0.000100        0.000100   \n",
       "25%    1.773293e+15      0.540000      1.000000      1.810000        1.256850   \n",
       "50%    1.773511e+15      1.530000      1.000000      6.680000        3.391200   \n",
       "75%    1.773558e+15      1.780000      1.000000     21.633250       10.808000   \n",
       "max    1.773616e+15      7.590000     16.000000  27100.620000    17144.498600   \n",
       "\n",
       "       revenue_ratio  days_since_last_penalty  days_since_start_time  \n",
       "count   28119.000000             28119.000000           28119.000000  \n",
       "mean        7.225628              8166.264056               7.256410  \n",
       "std       266.623935              1919.437127              30.750441  \n",
       "min         0.000005                 0.000000              -1.000000  \n",
       "25%         0.861865              8619.000000              -1.000000  \n",
       "50%         1.869176              8619.000000               0.000000  \n",
       "75%         3.978838              8619.000000               2.000000  \n",
       "max     43645.985507              8619.000000             649.000000  "
      ]
     },
     "execution_count": 11,
     "metadata": {},
     "output_type": "execute_result"
    }
   ],
   "source": [
    "\n",
    "path = \"../data/data.xlsx\"\n",
    "ads_table = pd.read_excel(path, sheet_name = 0, header = 1)\n",
    "mod_table = pd.read_excel(path, sheet_name = 1)\n",
    "\n",
    "ads_table = clean_ads(ads_table)\n",
    "\n",
    "ads_table.describe()"
   ]
  },
  {
   "cell_type": "markdown",
   "metadata": {},
   "source": [
    "## Scale features"
   ]
  },
  {
   "cell_type": "code",
   "execution_count": 12,
   "metadata": {},
   "outputs": [],
   "source": [
    "ad_cols = ['baseline_st', 'punish_num', 'ad_revenue', 'avg_ad_revenue', 'revenue_ratio', 'days_since_last_penalty', 'days_since_start_time']\n",
    "scaler_ads = StandardScaler()\n",
    "X_ads = scaler_ads.fit_transform(\n",
    "    ads_table[ad_cols].values)\n",
    "\n",
    "mod_cols = ['handling time'] # define relevant columns for moderators\n",
    "scaler_mods = StandardScaler()\n",
    "X_mods = scaler_mods.fit_transform(mod_table[mod_cols].values)"
   ]
  },
  {
   "cell_type": "markdown",
   "metadata": {},
   "source": [
    "## Define the Loss Function"
   ]
  },
  {
   "cell_type": "code",
   "execution_count": 13,
   "metadata": {},
   "outputs": [],
   "source": [
    "def loss(ads: pd.DataFrame, mods: pd.DataFrame):\n",
    "    # Loss is determined by combination of results obtained from the simulation.\n",
    "    mismatch, utilization = simulate(ads, mods) # mismatch was chosen as a composite weakens our optimisation\n",
    "    return mismatch"
   ]
  },
  {
   "cell_type": "markdown",
   "metadata": {},
   "source": [
    "## Run the Simulation\n",
    "Monte Carlo simulation of the advertisement allocation process. From the simulations we will take the pair of models that arrived at the best possible result based on our loss function."
   ]
  },
  {
   "cell_type": "code",
   "execution_count": 14,
   "metadata": {},
   "outputs": [
    {
     "name": "stdout",
     "output_type": "stream",
     "text": [
      "Iteration: 0    Loss: 0.0020876946155807077\n",
      "Iteration: 1    Loss: 0.003952888521125185\n",
      "Iteration: 2    Loss: 0.0034449802642830918\n",
      "Iteration: 3    Loss: 0.002460364007339565\n",
      "Iteration: 4    Loss: 0.004485756222468353\n",
      "Iteration: 5    Loss: 0.0020876946155807094\n",
      "Iteration: 6    Loss: 0.004196048953070052\n",
      "Iteration: 7    Loss: 0.003599027052743421\n",
      "Iteration: 8    Loss: 0.005700346908566392\n",
      "Iteration: 9    Loss: 0.0026518002175135225\n",
      "Iteration: 10    Loss: 0.00528011031169566\n",
      "Iteration: 11    Loss: 0.003977046600137968\n",
      "Iteration: 12    Loss: 0.0013409645889018201\n",
      "Iteration: 13    Loss: 0.003645369989557914\n",
      "Iteration: 14    Loss: 0.0020876946155807077\n",
      "Iteration: 15    Loss: 0.003649309064282152\n",
      "Iteration: 16    Loss: 0.0036235127928024003\n",
      "Iteration: 17    Loss: 0.0036235127928024007\n",
      "Iteration: 18    Loss: 0.0029053604239132696\n",
      "Iteration: 19    Loss: 0.0020876946155807094\n",
      "Iteration: 20    Loss: 0.0026733703045880054\n",
      "Iteration: 21    Loss: 0.0041030883184501625\n",
      "Iteration: 22    Loss: 0.004948626798348494\n",
      "Iteration: 23    Loss: 0.008683022887458543\n",
      "Iteration: 24    Loss: 0.0020876946155807072\n",
      "Iteration: 25    Loss: 0.005700346908566392\n",
      "Iteration: 26    Loss: 0.0026733703045880054\n",
      "Iteration: 27    Loss: 0.002673370304588008\n",
      "Iteration: 28    Loss: 0.0036235127928024007\n",
      "Iteration: 29    Loss: 0.005280110311695637\n",
      "Iteration: 30    Loss: 0.0026733703045880054\n",
      "Iteration: 31    Loss: 0.005697856348987616\n",
      "Iteration: 32    Loss: 0.0036235127928024003\n",
      "Iteration: 33    Loss: 0.003645369989557914\n",
      "Iteration: 34    Loss: 0.0036235127928024003\n",
      "Iteration: 35    Loss: 0.005448182322914809\n",
      "Iteration: 36    Loss: 0.005278030368349886\n",
      "Iteration: 37    Loss: 0.0020876946155807072\n",
      "Iteration: 38    Loss: 0.0013409645889018201\n",
      "Iteration: 39    Loss: 0.0026733703045880054\n",
      "Iteration: 40    Loss: 0.004485756222468353\n",
      "Iteration: 41    Loss: 0.007405965316803341\n",
      "Iteration: 42    Loss: 0.008668742364392587\n",
      "Iteration: 43    Loss: 0.0021049310053473796\n",
      "Iteration: 44    Loss: 0.004196048953070054\n",
      "Iteration: 45    Loss: 0.0013409645889018201\n",
      "Iteration: 46    Loss: 0.0029053604239132696\n",
      "Iteration: 47    Loss: 0.0036235127928024003\n",
      "Iteration: 48    Loss: 0.0020876946155807094\n",
      "Iteration: 49    Loss: 0.0036235127928024025\n",
      "Best GMM models achieved loss of: 0.0013409645889018201\n"
     ]
    }
   ],
   "source": [
    "max_iterations = 50 # ideally at least 10,000 iteration\n",
    "best_loss = float('inf')  # or -float('inf') if you're maximizing\n",
    "best_gmms = None # will be a tuple of the best models for ads and moderators after running all simulations\n",
    "tolerance = 1e-5\n",
    "n_components = 3 # use if using GaussianMixture instead of BayesianGaussianMixture\n",
    "\n",
    "previous_loss = best_loss\n",
    "\n",
    "for i in range(max_iterations):\n",
    "    gmm_ads = GaussianMixture(n_components=n_components)\n",
    "    gmm_ads.fit(X_ads)\n",
    "\n",
    "    gmm_mods = GaussianMixture(n_components=n_components)\n",
    "    gmm_mods.fit(X_mods)\n",
    "\n",
    "    ad_risk_scores = compute_risk_scores(X_ads, gmm_ads)\n",
    "    mod_scores = compute_risk_scores(X_mods, gmm_mods)\n",
    "    \n",
    "    ads_table['score'] = ad_risk_scores\n",
    "    mod_table['score'] = mod_scores\n",
    "    current_loss = loss(ads_table, mod_table) # run simulation based on the dataframe of ads and moderators with the assigned scores\n",
    "    print(f\"Iteration: {i}    Loss: {current_loss}\")\n",
    "\n",
    "    # if abs(current_loss - previous_loss) < tolerance:\n",
    "    #     break\n",
    "\n",
    "    if current_loss < best_loss:  # Use > if you're maximizing the loss\n",
    "        best_loss = current_loss\n",
    "        best_gmms = (gmm_ads, gmm_mods)\n",
    "\n",
    "    previous_loss = current_loss\n",
    "\n",
    "# best_gmms now contains the models with the lowest observed loss\n",
    "print(f\"Best GMM models achieved loss of: {best_loss}\")"
   ]
  },
  {
   "cell_type": "code",
   "execution_count": 22,
   "metadata": {},
   "outputs": [
    {
     "data": {
      "text/plain": [
       "array([1., 1., 1., ..., 1., 1., 1.])"
      ]
     },
     "execution_count": 22,
     "metadata": {},
     "output_type": "execute_result"
    }
   ],
   "source": [
    "# best risk scores for ads\n",
    "compute_risk_scores(X_ads, best_gmms[0])"
   ]
  },
  {
   "cell_type": "code",
   "execution_count": 24,
   "metadata": {},
   "outputs": [
    {
     "data": {
      "text/plain": [
       "array([0.99945387, 0.99950569, 0.99972071, ..., 0.99976193, 0.99973558,\n",
       "       0.99865813])"
      ]
     },
     "execution_count": 24,
     "metadata": {},
     "output_type": "execute_result"
    }
   ],
   "source": [
    "# best risk scores for mods\n",
    "compute_risk_scores(X_mods, best_gmms[1])"
   ]
  }
 ],
 "metadata": {
  "kernelspec": {
   "display_name": "Python 3",
   "language": "python",
   "name": "python3"
  },
  "language_info": {
   "codemirror_mode": {
    "name": "ipython",
    "version": 3
   },
   "file_extension": ".py",
   "mimetype": "text/x-python",
   "name": "python",
   "nbconvert_exporter": "python",
   "pygments_lexer": "ipython3",
   "version": "3.10.8"
  },
  "orig_nbformat": 4
 },
 "nbformat": 4,
 "nbformat_minor": 2
}
